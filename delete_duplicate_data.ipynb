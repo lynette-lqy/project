{
 "cells": [
  {
   "cell_type": "markdown",
   "metadata": {},
   "source": [
    "This class is designed to delete duplicate data which exist both in NFRI database and NIFS database. This class only has one function which is mainly used to compare title which may have small differences."
   ]
  },
  {
   "cell_type": "code",
   "execution_count": null,
   "metadata": {},
   "outputs": [],
   "source": [
    "import csv\n",
    "import pandas as pd\n",
    "import re\n",
    "from nltk.stem import PorterStemmer \n",
    "ps = PorterStemmer()"
   ]
  },
  {
   "cell_type": "code",
   "execution_count": null,
   "metadata": {},
   "outputs": [],
   "source": [
    "class delete_duplicate_data:\n",
    "    \n",
    "    def __init__(self,specie):\n",
    "        self.specie = specie\n",
    "        \n",
    "    # Define a class to compare titles in both databases.\n",
    "    def search_title(self):\n",
    "        ## Extract title of each database.\n",
    "        nfri_title_list = list(set(pd_nfri_main[pd_nfri_main['specie']==self.specie]['title_of_record'].tolist()))\n",
    "        nifs_title_list = list(set(pd_nifs_main[pd_nifs_main['specie']==self.specie]['title_of_record'].tolist()))\n",
    "        ## Find common species in two databases.\n",
    "        ## As the titles may have several differences, so I use word stemming to simplify the words in title.\n",
    "        common_title = []\n",
    "        for i in range (len(nfri_title_list)):\n",
    "            nfri_stemming = [ps.stem(w) for w in nfri_title_list[i].split()]\n",
    "            for j in range (len(nifs_title_list)):\n",
    "                nifs_stemming = [ps.stem(w) for w in nifs_title_list[j].split()]\n",
    "                if nfri_stemming == nifs_stemming: # Add common titles of two databases.\n",
    "                    common_title.append([nfri_title_list[i],nifs_title_list[j]])\n",
    "        \n",
    "        # Extract record number of common titles in two databases.\n",
    "        both_record = []\n",
    "        for i in range (len(common_title)):\n",
    "            nfri_record = pd_nfri_main[pd_nfri_main['title_of_record']==common_title[i][0]]['record_number'].tolist()\n",
    "            nifs_record = pd_nifs_main[pd_nifs_main['title_of_record']==common_title[i][1]]['record_number'].tolist()\n",
    "            both_record.append([nfri_record,nifs_record])\n",
    "        \n",
    "        # Record common record number if the value of meta data are the same under the same title.\n",
    "        both_ID = []\n",
    "        for i in range (len(both_record)):\n",
    "            ## To save time of directly comparing meta data, I firstly compare the length of meta data.\n",
    "            nfri_record = both_record[i][0]\n",
    "            nifs_record = both_record[i][1]\n",
    "            ## Compare the value of X and sort it by x value.\n",
    "            for a in range (len(nfri_record)):\n",
    "                nfri_data = pd_nfri_data[pd_nfri_data['ID']==nfri_record[a]]\n",
    "                nfri_data = nfri_data.sort_values(by = ['X','Y','X_error','Y_error'],ascending=True) # Sort by x value.\n",
    "                for b in range (len(nifs_record)):\n",
    "                    nifs_data = pd_nifs_data[pd_nifs_data['ID']==nifs_record[b]] \n",
    "                    nifs_data = nifs_data.sort_values(by = ['X','Y','X_error','Y_error'],ascending=True) # Sort by x value.\n",
    "                    if len(nfri_data) == len(nifs_data): # Compare x value.\n",
    "                        ## If they are the same, record the record number respectively of two databases.\n",
    "                        if nfri_data['X'].tolist() == nifs_data['X'].tolist(): \n",
    "                            both_ID.append([nfri_record[a],nifs_record[b]])\n",
    "        self.both_ID = both_ID\n",
    "        return both_ID"
   ]
  }
 ],
 "metadata": {
  "kernelspec": {
   "display_name": "Python 3",
   "language": "python",
   "name": "python3"
  },
  "language_info": {
   "codemirror_mode": {
    "name": "ipython",
    "version": 3
   },
   "file_extension": ".py",
   "mimetype": "text/x-python",
   "name": "python",
   "nbconvert_exporter": "python",
   "pygments_lexer": "ipython3",
   "version": "3.7.4"
  }
 },
 "nbformat": 4,
 "nbformat_minor": 2
}
